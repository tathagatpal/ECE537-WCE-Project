{
 "cells": [
  {
   "cell_type": "code",
   "execution_count": 1,
   "id": "73dad507",
   "metadata": {},
   "outputs": [],
   "source": [
    "import torch\n",
    "import matplotlib.pyplot as plt\n",
    "from torch import nn\n",
    "import matplotlib.pyplot as plt\n",
    "import torch.nn.functional as F\n",
    "\n",
    "import random\n",
    "from torchvision import datasets, transforms\n",
    "from torch import optim"
   ]
  },
  {
   "cell_type": "code",
   "execution_count": 2,
   "id": "3a82b744",
   "metadata": {
    "scrolled": true
   },
   "outputs": [],
   "source": [
    "random.seed(34)\n",
    "k=4\n",
    "hlist=[]\n",
    "for i in range(k):\n",
    "    h1=[]\n",
    "    for j in range(k):\n",
    "        h1.append(random.random())\n",
    "    hlist.append(h1)\n",
    "# hlist\n",
    "\n",
    "n=100\n",
    "theta=torch.randn(1,n)\n",
    "theta_temp=theta\n",
    "# theta_c=torch.randn(1,n)\n",
    "# theta=torch.complex(theta_r,theta_c)\n",
    "\n",
    "hr=[]\n",
    "for i in range(k):\n",
    "    hr_r=torch.randn(1,n)\n",
    "    hr_c=torch.randn(1,n)\n",
    "    hr.append(hr_r)\n",
    "# print(hr)\n"
   ]
  },
  {
   "cell_type": "code",
   "execution_count": 3,
   "id": "9a3f5096",
   "metadata": {},
   "outputs": [],
   "source": [
    "def init_weights(m):\n",
    "    if isinstance(m, nn.Linear):\n",
    "        torch.nn.init.xavier_uniform(m.weight)\n",
    "        m.bias.data.fill_(0.01)"
   ]
  },
  {
   "cell_type": "code",
   "execution_count": 4,
   "id": "71684987",
   "metadata": {},
   "outputs": [
    {
     "name": "stdout",
     "output_type": "stream",
     "text": [
      "Sequential(\n",
      "  (0): Linear(in_features=16, out_features=1028, bias=True)\n",
      "  (1): ReLU()\n",
      "  (2): Linear(in_features=1028, out_features=640, bias=True)\n",
      "  (3): ReLU()\n",
      "  (4): Linear(in_features=640, out_features=320, bias=True)\n",
      "  (5): ReLU()\n",
      "  (6): Linear(in_features=320, out_features=100, bias=True)\n",
      "  (7): Sigmoid()\n",
      ")\n"
     ]
    },
    {
     "name": "stderr",
     "output_type": "stream",
     "text": [
      "/tmp/ipykernel_1183086/239054705.py:3: UserWarning: nn.init.xavier_uniform is now deprecated in favor of nn.init.xavier_uniform_.\n",
      "  torch.nn.init.xavier_uniform(m.weight)\n"
     ]
    }
   ],
   "source": [
    "# Layer details for the neural network\n",
    "input_size = k*k\n",
    "hidden=1028\n",
    "hidden1=640\n",
    "hidden2=320\n",
    "output_size = n\n",
    "\n",
    "\n",
    "model = nn.Sequential(nn.Linear(input_size, hidden),\n",
    "                      nn.ReLU(),\n",
    "                      nn.Linear(hidden, hidden1),\n",
    "                      nn.ReLU(),\n",
    "                      nn.Linear(hidden1,hidden2),\n",
    "                      nn.ReLU(),\n",
    "                      nn.Linear(hidden2, output_size),\n",
    "                      nn.Sigmoid())\n",
    "model.apply(init_weights)\n",
    "print(model)"
   ]
  },
  {
   "cell_type": "code",
   "execution_count": 5,
   "id": "e5af04e2",
   "metadata": {},
   "outputs": [],
   "source": [
    "def run(epochs,std,P,h,hlist,hr):\n",
    "#     loss=0\n",
    "    rate=[]\n",
    "    for e in range(epochs):\n",
    "        running_loss = 0\n",
    "        model.train()\n",
    "\n",
    "        # Training pass\n",
    "        optimizer.zero_grad()\n",
    "        output = model(h)\n",
    "        theta_2=torch.zeros(1,n)\n",
    "        for i in range(len(output)):\n",
    "            theta_2[0][i]=output[i]\n",
    "#         print(theta_2.size())\n",
    "#         print(torch.transpose(hr[0],0,1).size())\n",
    "        loss=0\n",
    "        for i in range(k):\n",
    "            interference=0\n",
    "            for j in range(k):\n",
    "                if(i==j):\n",
    "#                     print(matmul_complex(theta_2,torch.transpose(hr[i],0,1)))\n",
    "                    signal=P*torch.abs(hlist[i][j]+torch.matmul(output,torch.transpose(hr[i],0,1)))\n",
    "                else:\n",
    "                    interference+=P*torch.abs(hlist[i][j]+torch.matmul(output,torch.transpose(hr[j],0,1)))\n",
    "            loss+=torch.log2(1+(signal/(std*std+(interference))))\n",
    "        rate.append(loss)\n",
    "        loss=-(1/(k*k))*loss\n",
    "        loss.backward()\n",
    "        optimizer.step()\n",
    "        \n",
    "    return(rate)"
   ]
  },
  {
   "cell_type": "code",
   "execution_count": 6,
   "id": "20c0a12f",
   "metadata": {},
   "outputs": [],
   "source": [
    "h=[]\n",
    "for i in range(k):\n",
    "    for j in hlist[i]:\n",
    "        h.append(j)\n",
    "h=torch.tensor(h)"
   ]
  },
  {
   "cell_type": "code",
   "execution_count": 7,
   "id": "3c1aa530",
   "metadata": {
    "scrolled": true
   },
   "outputs": [],
   "source": [
    "optimizer=optim.Adam(model.parameters(),lr=0.01)\n",
    "P=1\n",
    "ebn0=5\n",
    "std=P/(10**(ebn0/10))\n",
    "runs=200\n",
    "rates=[]\n",
    "ep=50\n",
    "for i in range(runs):\n",
    "    rates.append(run(ep,std,P,h,hlist,hr))\n",
    "average_rate = [sum(sub_list) / len(sub_list) for sub_list in zip(*rates)]"
   ]
  },
  {
   "cell_type": "code",
   "execution_count": 8,
   "id": "9071bbc5",
   "metadata": {},
   "outputs": [
    {
     "data": {
      "text/plain": [
       "Text(0, 0.5, 'Throughput')"
      ]
     },
     "execution_count": 8,
     "metadata": {},
     "output_type": "execute_result"
    },
    {
     "data": {
      "image/png": "[encoded data removed]",
      "text/plain": [
       "<Figure size 432x288 with 1 Axes>"
      ]
     },
     "metadata": {
      "needs_background": "light"
     },
     "output_type": "display_data"
    }
   ],
   "source": [
    "plt.plot(average_rate)\n",
    "plt.xlabel('Epochs')\n",
    "plt.ylabel('Throughput')"
   ]
  },
  {
   "cell_type": "code",
   "execution_count": 9,
   "id": "062b3938",
   "metadata": {},
   "outputs": [
    {
     "data": {
      "text/plain": [
       "0.31622776601683794"
      ]
     },
     "execution_count": 9,
     "metadata": {},
     "output_type": "execute_result"
    }
   ],
   "source": [
    "std"
   ]
  },
  {
   "cell_type": "code",
   "execution_count": 10,
   "id": "21aae136",
   "metadata": {},
   "outputs": [],
   "source": [
    "output=model(h)"
   ]
  },
  {
   "cell_type": "code",
   "execution_count": 11,
   "id": "6006c1c4",
   "metadata": {
    "scrolled": true
   },
   "outputs": [],
   "source": [
    "# powers=P*powers\n",
    "# powers"
   ]
  },
  {
   "cell_type": "code",
   "execution_count": 12,
   "id": "dfe1e16a",
   "metadata": {},
   "outputs": [
    {
     "name": "stdout",
     "output_type": "stream",
     "text": [
      "tensor([1.9543], grad_fn=<AddBackward0>)\n"
     ]
    }
   ],
   "source": [
    "rate=0\n",
    "for i in range(k):\n",
    "    interference=0\n",
    "    for j in range(k):\n",
    "        if(i==j):\n",
    "#                     print(matmul_complex(theta_2,torch.transpose(hr[i],0,1)))\n",
    "            signal=P*torch.abs(hlist[i][j]+torch.matmul(output,torch.transpose(hr[i],0,1)))\n",
    "        else:\n",
    "            interference+=P*torch.abs(hlist[i][j]+torch.matmul(output,torch.transpose(hr[j],0,1)))\n",
    "    rate+=torch.log2(1+(signal/(std*std+(interference))))\n",
    "print(rate)"
   ]
  },
  {
   "cell_type": "code",
   "execution_count": 13,
   "id": "2d35ead5",
   "metadata": {},
   "outputs": [
    {
     "name": "stdout",
     "output_type": "stream",
     "text": [
      "tensor([[1.7059]])\n"
     ]
    }
   ],
   "source": [
    "rate=0\n",
    "for i in range(k):\n",
    "    interference=0\n",
    "    for j in range(k):\n",
    "        if(i==j):\n",
    "#                     print(matmul_complex(theta_2,torch.transpose(hr[i],0,1)))\n",
    "            signal=P*torch.abs(hlist[i][j]+torch.matmul(theta_temp,torch.transpose(hr[i],0,1)))\n",
    "        else:\n",
    "            interference+=P*torch.abs(hlist[i][j]+torch.matmul(theta_temp,torch.transpose(hr[j],0,1)))\n",
    "    rate+=torch.log2(1+(signal/(std*std+(interference))))\n",
    "print(rate)"
   ]
  },
  {
   "cell_type": "code",
   "execution_count": 14,
   "id": "4023fbf4",
   "metadata": {},
   "outputs": [
    {
     "name": "stdout",
     "output_type": "stream",
     "text": [
      "[1.954630732536316, 1.9528084993362427, 1.952976107597351, 1.953181266784668, 1.9535702466964722, 1.9537287950515747, 1.9537287950515747, 1.9537287950515747, 1.9537287950515747, 1.9537287950515747, 1.9537765979766846, 1.9540432691574097, 1.9540432691574097, 1.9540432691574097, 1.9540432691574097, 1.9540432691574097, 1.9540432691574097, 1.9540432691574097, 1.9540464878082275, 1.9542561769485474, 1.9542607069015503, 1.9542639255523682, 1.9542639255523682, 1.9542639255523682, 1.9542639255523682, 1.9542639255523682, 1.9542639255523682, 1.9542639255523682, 1.9542639255523682, 1.9542639255523682, 1.9542639255523682, 1.9542639255523682, 1.9542639255523682, 1.9542639255523682, 1.9542639255523682, 1.9542639255523682, 1.9542639255523682, 1.9542639255523682, 1.9542639255523682, 1.9542639255523682, 1.9542639255523682, 1.9542639255523682, 1.9542639255523682, 1.9542639255523682, 1.9542639255523682, 1.9542639255523682, 1.9542639255523682, 1.9542639255523682, 1.9542639255523682, 1.9542639255523682]\n"
     ]
    }
   ],
   "source": [
    "ar=[]\n",
    "for i in average_rate:\n",
    "    ar.append((i.item()))\n",
    "print(ar)"
   ]
  }
 ],
 "metadata": {
  "kernelspec": {
   "display_name": "mitacs",
   "language": "python",
   "name": "mitacs"
  },
  "language_info": {
   "codemirror_mode": {
    "name": "ipython",
    "version": 3
   },
   "file_extension": ".py",
   "mimetype": "text/x-python",
   "name": "python",
   "nbconvert_exporter": "python",
   "pygments_lexer": "ipython3",
   "version": "3.8.5"
  }
 },
 "nbformat": 4,
 "nbformat_minor": 5
}
